{
 "cells": [
  {
   "cell_type": "code",
   "execution_count": null,
   "metadata": {
    "collapsed": true
   },
   "outputs": [],
   "source": [
    "from pandas import read_csv\n",
    "df1=read_csv(\"./assets/supermarkets.csv\")\n",
    "df1=df1.set_index(\"ID\")\n",
    "df1.loc[2:4,\"City\":\"Name\"]\n",
    "df1.iloc[1:4,1:5]\n",
    "df1"
   ]
  },
  {
   "cell_type": "code",
   "execution_count": null,
   "metadata": {
    "collapsed": true
   },
   "outputs": [],
   "source": [
    "df1.loc[:,\"State\"]=[\"AR\",\"MO\",\"KA\",\"NY\",\"OH\",\"DC\"]\n",
    "df1"
   ]
  },
  {
   "cell_type": "code",
   "execution_count": null,
   "metadata": {},
   "outputs": [],
   "source": [
    "import geopy\n",
    "dir(geopy)"
   ]
  },
  {
   "cell_type": "code",
   "execution_count": null,
   "metadata": {
    "scrolled": true
   },
   "outputs": [],
   "source": [
    "from geopy.geocoders import Nominatim\n",
    "from geopy.geocoders import GoogleV3\n",
    "\n",
    "# nom=Nominatim(user_agent='http')\n",
    "nom = GoogleV3(scheme='http')\n",
    "n=nom.geocode('Some Non Existent Address')\n",
    "print(\"Non Existent Address returned:\", n)\n",
    "n=nom.geocode('3107 SW Deerfield Blvd, Bentonville, AR 72712')\n",
    "print(n)\n",
    "print(type(n))\n",
    "print(n.latitude, \" - \" , n.longitude, \" - \", n.altitude)\n",
    "from pandas import read_csv\n",
    "df=read_csv('./assets/supermarkets.csv')\n",
    "df[\"Location\"]=df[\"Address\"]+\",\"+df[\"City\"]+\",\"+df[\"State\"]\n",
    "df[\"Location\"]\n",
    "df[\"Coordinates\"]=df[\"Location\"].apply(nom.geocode)\n",
    "df"
   ]
  },
  {
   "cell_type": "code",
   "execution_count": null,
   "metadata": {
    "collapsed": true
   },
   "outputs": [],
   "source": [
    "import numpy\n",
    "n=numpy.arange(27)\n",
    "print(n)\n",
    "type(n)\n",
    "print(type(numpy.array([[1,2,3,4,5],[11,12]])))\n",
    "print(type(numpy.asarray([[1,2,3,4,5],[11,12]])))\n",
    "n=n.reshape(3,9)\n",
    "type(n)"
   ]
  },
  {
   "cell_type": "code",
   "execution_count": null,
   "metadata": {
    "collapsed": true
   },
   "outputs": [],
   "source": [
    "\n",
    "n = numpy.arange(20)\n",
    "n = n.reshape(4,5)\n",
    "print(n)\n",
    "# Slicing the first two columns across all rows\n",
    "print(n[:,0:2])\n",
    "\n",
    "# Slicing a required n x n set\n",
    "print(n[1:3,3:5])\n",
    "help(n.flat)\n"
   ]
  },
  {
   "cell_type": "code",
   "execution_count": null,
   "metadata": {
    "collapsed": true
   },
   "outputs": [],
   "source": [
    "l = [ [j*i for j in range(0,4)] for i in range(0,4)]\n",
    "print(l)\n",
    "\n",
    "# print(l[:,0:2])\n",
    "print(len(l))\n",
    "for i in range(len(l)) :\n",
    "    print(*[l[i][j] for j in range(1,3)])"
   ]
  },
  {
   "cell_type": "code",
   "execution_count": null,
   "metadata": {
    "collapsed": true
   },
   "outputs": [],
   "source": [
    "l = [ [j*i for j in range(0,3)] for i in range(0,5)]\n",
    "narr = numpy.array(l)\n",
    "print(narr)\n",
    "print(narr.T)\n",
    "\n",
    "l2 = [[0,1],\n",
    "      [0,1],\n",
    "      [0,1],\n",
    "      [0,1]\n",
    "     ]\n",
    "print(l2)\n",
    "narr = numpy.array(l2)\n",
    "print(narr)\n",
    "print(narr.T)\n",
    "\n",
    "l3 = [[0],\n",
    "      [0,1],\n",
    "      [0,1,2]\n",
    "     ]\n",
    "print(l3)\n",
    "narr = numpy.array(l3)\n",
    "print(narr)\n",
    "print(narr.T)"
   ]
  },
  {
   "cell_type": "code",
   "execution_count": null,
   "metadata": {
    "collapsed": true
   },
   "outputs": [],
   "source": [
    "# import cv2\n",
    "# All the arguments of hstack and vstack should be of the same dimensions\n",
    "img = cv2.imread('./assets/sample-color-bar-50x10.png',1)\n",
    "img_r_attach = numpy.hstack((img, img, img))\n",
    "cv2.imwrite('./assets/sample-r-stack-out.png',img_r_attach)\n",
    "img_v_attach = numpy.vstack((img, img, img))\n",
    "cv2.imwrite('./assets/sample-v-stack-out.png',img_v_attach)\n",
    "r_list = numpy.hsplit(img_r_attach,50)\n",
    "v_list = numpy.vsplit(img_v_attach,30)\n",
    "v_list"
   ]
  }
 ],
 "metadata": {
  "kernelspec": {
   "name": "python3",
   "display_name": "Python 3.8.0 32-bit",
   "metadata": {
    "interpreter": {
     "hash": "9e73991c6b46e39d08b5744e4f436d9d579240c38a9018f96462af95a5f416be"
    }
   }
  },
  "language_info": {
   "codemirror_mode": {
    "name": "ipython",
    "version": 3
   },
   "file_extension": ".py",
   "mimetype": "text/x-python",
   "name": "python",
   "nbconvert_exporter": "python",
   "pygments_lexer": "ipython3",
   "version": "3.8.0-final"
  }
 },
 "nbformat": 4,
 "nbformat_minor": 2
}